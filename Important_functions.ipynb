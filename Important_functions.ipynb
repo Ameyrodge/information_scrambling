{
 "cells": [
  {
   "cell_type": "code",
   "execution_count": 3,
   "id": "a3c0bd10",
   "metadata": {},
   "outputs": [],
   "source": [
    "import numpy as np\n",
    "import math\n",
    "import matplotlib.pyplot as plt\n",
    "import random"
   ]
  },
  {
   "cell_type": "code",
   "execution_count": 2,
   "id": "f558c2e6",
   "metadata": {},
   "outputs": [],
   "source": [
    "zero = [[1],\n",
    "       [0]]\n",
    "one = [[0],\n",
    "      [1]]\n",
    "state_0 = np.array(zero)\n",
    "state_1 = np.array(one)\n",
    "state_00 = np.kron(state_0,state_0)\n",
    "state_01 = np.kron(state_0,state_1)\n",
    "state_10 = np.kron(state_1,state_0)\n",
    "state_11 = np.kron(state_1,state_1)\n",
    "state_000 = np.kron(state_00,state_0)\n",
    "state_001 = np.kron(state_00,state_1)\n",
    "state_010 = np.kron(state_01,state_0)\n",
    "state_011 = np.kron(state_01,state_1)\n",
    "state_100 = np.kron(state_10,state_0)\n",
    "state_101 = np.kron(state_10,state_1)\n",
    "state_110 = np.kron(state_11,state_0)\n",
    "state_111 = np.kron(state_11,state_1)"
   ]
  },
  {
   "cell_type": "code",
   "execution_count": 4,
   "id": "b3fd29fd",
   "metadata": {},
   "outputs": [],
   "source": [
    "def Entropy(rdm):\n",
    "    lmbda = np.round(np.linalg.eigvals(rdm),4)\n",
    "    if  lmbda.any() <  0:\n",
    "        lmbda == 0\n",
    "    S = 0\n",
    "    for i in range (len(lmbda)):\n",
    "        if lmbda[i] == 0:\n",
    "            S = S + 0\n",
    "        else:\n",
    "            S = np.round(S - lmbda[i]*np.log2(lmbda[i]),4)\n",
    "        if S < 0 :\n",
    "            S==0\n",
    "    return S"
   ]
  },
  {
   "cell_type": "code",
   "execution_count": 5,
   "id": "6af53048",
   "metadata": {},
   "outputs": [],
   "source": [
    "def extract_elements_4(Rho_123,indices):\n",
    "    # Create a new 4x4 matrix filled with zeros\n",
    "    four_by_four = [[ 0 for _ in range(4)] for _ in range(4)]\n",
    "    # Iterate over the elements of the 4x4 matrix\n",
    "    for i in range (4):\n",
    "        for j in range (4):\n",
    "            row_idx, col_idx = indices[i * 4 + j]\n",
    "            four_by_four[i][j] = Rho_123[row_idx][col_idx]\n",
    "    return four_by_four"
   ]
  },
  {
   "cell_type": "code",
   "execution_count": 6,
   "id": "e2d2a7b3",
   "metadata": {},
   "outputs": [],
   "source": [
    "def extract_elements_2(matrix,indices):\n",
    "    two_by_two =[[0 for _ in range(2)] for _ in range(2)]\n",
    "    for i in range(2):\n",
    "        for j in range(2):\n",
    "            row_idx, col_idx = indices [i*2 +j]\n",
    "            two_by_two[i][j]= matrix[row_idx][col_idx]\n",
    "    return two_by_two"
   ]
  },
  {
   "cell_type": "code",
   "execution_count": null,
   "id": "4e04939f",
   "metadata": {},
   "outputs": [],
   "source": []
  }
 ],
 "metadata": {
  "kernelspec": {
   "display_name": "Python 3 (ipykernel)",
   "language": "python",
   "name": "python3"
  },
  "language_info": {
   "codemirror_mode": {
    "name": "ipython",
    "version": 3
   },
   "file_extension": ".py",
   "mimetype": "text/x-python",
   "name": "python",
   "nbconvert_exporter": "python",
   "pygments_lexer": "ipython3",
   "version": "3.8.10"
  }
 },
 "nbformat": 4,
 "nbformat_minor": 5
}
